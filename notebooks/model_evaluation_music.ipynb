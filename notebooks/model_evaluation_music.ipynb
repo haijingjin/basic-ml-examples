{
 "cells": [
  {
   "cell_type": "code",
   "execution_count": 2,
   "metadata": {},
   "outputs": [
    {
     "name": "stdout",
     "output_type": "stream",
     "text": [
      "   Unnamed: 0  popularity  acousticness  danceability  duration_ms  energy  \\\n",
      "0       36506        60.0      0.896000         0.726     214547.0   0.177   \n",
      "1       37591        63.0      0.003840         0.635     190448.0   0.908   \n",
      "2       37658        59.0      0.000075         0.352     456320.0   0.956   \n",
      "3       36060        54.0      0.945000         0.488     352280.0   0.326   \n",
      "4       35710        55.0      0.245000         0.667     273693.0   0.647   \n",
      "\n",
      "   instrumentalness  liveness  loudness  speechiness    tempo  valence  genre  \n",
      "0          0.000002    0.1160   -14.824       0.0353   92.934    0.618      1  \n",
      "1          0.083400    0.2390    -4.795       0.0563  110.012    0.637      1  \n",
      "2          0.020300    0.1250    -3.634       0.1490  122.897    0.228      1  \n",
      "3          0.015700    0.1190   -12.020       0.0328  106.063    0.323      1  \n",
      "4          0.000297    0.0633    -7.787       0.0487  143.995    0.300      1  \n"
     ]
    },
    {
     "name": "stderr",
     "output_type": "stream",
     "text": [
      "/var/folders/r0/b123vzhn4672cc0khxxbtn2w0000gn/T/ipykernel_84967/1037989248.py:37: MatplotlibDeprecationWarning: The 'labels' parameter of boxplot() has been renamed 'tick_labels' since Matplotlib 3.9; support for the old name will be dropped in 3.11.\n",
      "  plt.boxplot(results, labels=models.keys())\n"
     ]
    },
    {
     "data": {
      "image/png": "[encoded data removed]",
      "text/plain": [
       "<Figure size 640x480 with 1 Axes>"
      ]
     },
     "metadata": {},
     "output_type": "display_data"
    }
   ],
   "source": [
    "import matplotlib.pyplot as plt\n",
    "from sklearn.preprocessing import StandardScaler\n",
    "from sklearn.model_selection import cross_val_score, KFold, train_test_split\n",
    "from sklearn.neighbors import KNeighborsClassifier              \n",
    "from sklearn.linear_model import LogisticRegression \n",
    "from sklearn.tree import DecisionTreeClassifier\n",
    "import pandas as pd\n",
    "\n",
    "\n",
    "# import the data   \n",
    "music = pd.read_csv('../datasets/supervised_learning_python/music_clean.csv')                               \n",
    "print(music.head()) \n",
    "\n",
    "# split the data into training and testing sets using numerical features\n",
    "X = music.drop(\"genre\", axis=1).values\n",
    "y = music[\"genre\"].values\n",
    "X_train, X_test, y_train, y_test = train_test_split(X, y, test_size=0.2, random_state=42)\n",
    "\n",
    "# scale the data\n",
    "scaler = StandardScaler()\n",
    "X_train_scaled = scaler.fit_transform(X_train)\n",
    "X_test_scaled = scaler.transform(X_test)\n",
    "\n",
    "# define the models\n",
    "models = {\"Logistic Regression\": LogisticRegression(),\n",
    "          \"KNN\": KNeighborsClassifier(),\n",
    "          \"Decision Tree\": DecisionTreeClassifier()}\n",
    "\n",
    "# perform cross-validation and store the results\n",
    "results = []\n",
    "for model in models.values():\n",
    "    kf = KFold(n_splits=6, random_state=42, shuffle=True)\n",
    "    cv_results = cross_val_score(model, X_train_scaled, y_train, cv=kf)\n",
    "    results.append(cv_results)\n",
    "\n",
    "# plot the results\n",
    "plt.boxplot(results, labels=models.keys())\n",
    "plt.show()"
   ]
  },
  {
   "cell_type": "code",
   "execution_count": 3,
   "metadata": {},
   "outputs": [
    {
     "name": "stdout",
     "output_type": "stream",
     "text": [
      "Logistic Regression Test Set Accuracy: 0.86\n",
      "KNN Test Set Accuracy: 0.875\n",
      "Decision Tree Test Set Accuracy: 1.0\n"
     ]
    }
   ],
   "source": [
    "# train the models and evaluate the test set accuracy   \n",
    "for name, model in models.items():\n",
    "    model.fit(X_train_scaled, y_train)\n",
    "    test_score = model.score(X_test_scaled, y_test)\n",
    "    print(\"{} Test Set Accuracy: {}\".format(name, test_score))"
   ]
  }
 ],
 "metadata": {
  "kernelspec": {
   "display_name": "Python 3",
   "language": "python",
   "name": "python3"
  },
  "language_info": {
   "codemirror_mode": {
    "name": "ipython",
    "version": 3
   },
   "file_extension": ".py",
   "mimetype": "text/x-python",
   "name": "python",
   "nbconvert_exporter": "python",
   "pygments_lexer": "ipython3",
   "version": "3.12.4"
  }
 },
 "nbformat": 4,
 "nbformat_minor": 2
}
